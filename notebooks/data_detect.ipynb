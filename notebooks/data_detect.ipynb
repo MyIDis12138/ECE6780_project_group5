{
 "cells": [
  {
   "cell_type": "code",
   "execution_count": 2,
   "metadata": {},
   "outputs": [
    {
     "name": "stdout",
     "output_type": "stream",
     "text": [
      "  Patient Information                 MRI Technical Information  \\\n",
      "0          Patient ID  Days to MRI (From the Date of Diagnosis)   \n",
      "1                 NaN                                       NaN   \n",
      "2      Breast_MRI_001                                         6   \n",
      "3      Breast_MRI_002                                        12   \n",
      "4      Breast_MRI_003                                        10   \n",
      "\n",
      "                                          Unnamed: 2  \\\n",
      "0                                       Manufacturer   \n",
      "1  GE MEDICAL SYSTEMS=0, MPTronic software=1, SIE...   \n",
      "2                                                  2   \n",
      "3                                                  0   \n",
      "4                                                  0   \n",
      "\n",
      "                                          Unnamed: 3  \\\n",
      "0                            Manufacturer Model Name   \n",
      "1  Avanto=0, Optima MR450w=1, SIGNA EXCITE=2, SIG...   \n",
      "2                                                  0   \n",
      "3                                                  4   \n",
      "4                                                  3   \n",
      "\n",
      "                                          Unnamed: 4  \\\n",
      "0                                       Scan Options   \n",
      "1  FAST_GEMS\\SAT_GEMS\\ACC_GEMS\\PFP\\FS=0,FAST_GEMS...   \n",
      "2                                                  5   \n",
      "3                                                  1   \n",
      "4                                                  2   \n",
      "\n",
      "                   Unnamed: 5                   Unnamed: 6  \\\n",
      "0      Field Strength (Tesla)  Patient Position During MRI   \n",
      "1  1.494=0,1.5=1,2.8936=2,3=3                  FFP=0,HFP=1   \n",
      "2                           1                            0   \n",
      "3                           3                            0   \n",
      "4                           3                            0   \n",
      "\n",
      "                        Unnamed: 7  \\\n",
      "0        Image Position of Patient   \n",
      "1                              NaN   \n",
      "2  -191.8003 X -176.1259 X 86.6065   \n",
      "3      154.724 X 176.048 X 94.5771   \n",
      "4      174.658 X 228.317 X 88.4878   \n",
      "\n",
      "                                          Unnamed: 8  \\\n",
      "0                                     Contrast Agent   \n",
      "1  GADAVIST=0,MAGNEVIST=1,MMAGNEVIST=2,MULTIHANCE...   \n",
      "2                                                  1   \n",
      "3                                                  1   \n",
      "4                                                  1   \n",
      "\n",
      "                                          Unnamed: 9  ...  \\\n",
      "0                         Contrast Bolus Volume (mL)  ...   \n",
      "1  6=0,7=1,8=2,9=3,10=4,11=5,11.88=6,12=7,13=8,13...  ...   \n",
      "2                                                 15  ...   \n",
      "3                                                NaN  ...   \n",
      "4                                                NaN  ...   \n",
      "\n",
      "                                         Unnamed: 88  \\\n",
      "0  Therapeutic or Prophylactic Oophorectomy as pa...   \n",
      "1              {0 = no, 1 = yes, NP = not pertinent}   \n",
      "2                                                  1   \n",
      "3                                                  0   \n",
      "4                                                  0   \n",
      "\n",
      "               Anti-Her2 Neu Therapy                      Unnamed: 90  \\\n",
      "0  Neoadjuvant Anti-Her2 Neu Therapy  Adjuvant Anti-Her2 Neu Therapy    \n",
      "1                  {0 = no, 1 = yes}                {0 = no, 1 = yes}   \n",
      "2                                  1                                1   \n",
      "3                                  0                                0   \n",
      "4                                  0                                0   \n",
      "\n",
      "                      Neoadjuvant therapy  \\\n",
      "0     Received Neoadjuvant Therapy or Not   \n",
      "1  {1 = yes, 2 = no, NA = not applicable}   \n",
      "2                                       1   \n",
      "3                                       1   \n",
      "4                                       1   \n",
      "\n",
      "          Pathologic Response to Neoadjuvant Therapy  \\\n",
      "0  Pathologic response to Neoadjuvant therapy: Pa...   \n",
      "1  { -1 = TX;  0 = T0;  1 = T1;  2 = T2;  3 = T3;...   \n",
      "2                                                  1   \n",
      "3                                                NaN   \n",
      "4                                                  1   \n",
      "\n",
      "                                         Unnamed: 93  \\\n",
      "0  Pathologic response to Neoadjuvant therapy:  P...   \n",
      "1   { -1 = NX;  0 = N0;  1 = N1;  2 = N2;  3 = N3...   \n",
      "2                                                 -1   \n",
      "3                                                NaN   \n",
      "4                                                  1   \n",
      "\n",
      "                                         Unnamed: 94  \\\n",
      "0  Pathologic response to Neoadjuvant therapy:  P...   \n",
      "1  { -1 = MX;  0 = M0;  1 = M1;  NA = not applica...   \n",
      "2                                                 -1   \n",
      "3                                                NaN   \n",
      "4                                                 -1   \n",
      "\n",
      "                              Near Complete Response  \\\n",
      "0  Overall Near-complete Response:  Stricter Defi...   \n",
      "1  {0 = not complete or near-complete, 1 = comple...   \n",
      "2                                                  0   \n",
      "3                                                  2   \n",
      "4                                                  0   \n",
      "\n",
      "                                         Unnamed: 96  \\\n",
      "0  Overall Near-complete Response:  Looser Defini...   \n",
      "1  {0 = not complete or near-complete, 1 = comple...   \n",
      "2                                                  0   \n",
      "3                                                  2   \n",
      "4                                                  0   \n",
      "\n",
      "                                         Unnamed: 97  \n",
      "0            Near-complete Response (Graded Measure)  \n",
      "1  {0 = Not complete or near-complete;  1 = Compl...  \n",
      "2                                                  0  \n",
      "3                                                  4  \n",
      "4                                                  0  \n",
      "\n",
      "[5 rows x 98 columns]\n"
     ]
    }
   ],
   "source": [
    "import pandas as pd\n",
    "\n",
    "# Read the entire Excel file\n",
    "df = pd.read_excel(\"../datasets/Clinical_and_Other_Features.xlsx\", engine=\"openpyxl\")\n",
    "\n",
    "# # Read a specific sheet (by name or index)\n",
    "# df = pd.read_excel(\"datasets/metadata.csv\", sheet_name=\"Sheet1\", engine=\"openpyxl\")\n",
    "\n",
    "# Print the DataFrame\n",
    "print(df.head(5))"
   ]
  },
  {
   "cell_type": "code",
   "execution_count": 5,
   "metadata": {},
   "outputs": [
    {
     "name": "stdout",
     "output_type": "stream",
     "text": [
      "['Patient Information', 'MRI Technical Information', 'Unnamed: 2', 'Unnamed: 3', 'Unnamed: 4', 'Unnamed: 5', 'Unnamed: 6', 'Unnamed: 7', 'Unnamed: 8', 'Unnamed: 9', 'Unnamed: 10', 'Unnamed: 11', 'Unnamed: 12', 'Unnamed: 13', 'Unnamed: 14', 'Unnamed: 15', 'Unnamed: 16', 'Unnamed: 17', 'Unnamed: 18', 'Demographics', 'Unnamed: 20', 'Unnamed: 21', 'Unnamed: 22', 'Tumor Characteristics', 'Unnamed: 24', 'Unnamed: 25', 'Unnamed: 26', 'Unnamed: 27', 'Unnamed: 28', 'Unnamed: 29', 'Unnamed: 30', 'Unnamed: 31', 'Unnamed: 32', 'Unnamed: 33', 'Unnamed: 34', 'Unnamed: 35', 'Unnamed: 36', 'Unnamed: 37', 'Unnamed: 38', 'Unnamed: 39', 'Unnamed: 40', 'Unnamed: 41', 'Unnamed: 42', 'Unnamed: 43', 'Unnamed: 44', 'Unnamed: 45', 'Unnamed: 46', 'Unnamed: 47', 'MRI Findings', 'Unnamed: 49', 'Unnamed: 50', 'Unnamed: 51', 'Unnamed: 52', 'SURGERY', 'Unnamed: 54', 'Unnamed: 55', 'Radiation Therapy', 'Unnamed: 57', 'Tumor Response', 'Unnamed: 59', 'Recurrence', 'Unnamed: 61', 'Unnamed: 62', 'Follow Up', 'Unnamed: 64', 'Unnamed: 65', 'Unnamed: 66', 'BIRADS DATA', 'Mammography Characteristics', 'Unnamed: 69', 'Unnamed: 70', 'Unnamed: 71', 'Unnamed: 72', 'Unnamed: 73', 'Unnamed: 74', 'Unnamed: 75', 'US features', 'Unnamed: 77', 'Unnamed: 78', 'Unnamed: 79', 'Unnamed: 80', 'Unnamed: 81', 'Chemotherapy', 'Unnamed: 83', 'Endocrine Therapy', 'Unnamed: 85', 'Unnamed: 86', 'Unnamed: 87', 'Unnamed: 88', 'Anti-Her2 Neu Therapy', 'Unnamed: 90', 'Neoadjuvant therapy', 'Pathologic Response to Neoadjuvant Therapy', 'Unnamed: 93', 'Unnamed: 94', 'Near Complete Response', 'Unnamed: 96', 'Unnamed: 97']\n",
      "True\n"
     ]
    }
   ],
   "source": [
    "print(df.columns.tolist())\n",
    "print(\"Recurrence\" in df.columns.tolist()) "
   ]
  },
  {
   "cell_type": "code",
   "execution_count": 10,
   "metadata": {},
   "outputs": [
    {
     "name": "stdout",
     "output_type": "stream",
     "text": [
      "  Patient Information Recurrence\n",
      "2      Breast_MRI_001          0\n",
      "3      Breast_MRI_002          0\n",
      "4      Breast_MRI_003          0\n",
      "5      Breast_MRI_004          0\n",
      "6      Breast_MRI_005          0\n"
     ]
    }
   ],
   "source": [
    "target = df[['Patient Information', 'Recurrence']][2:]\n",
    "print(target.head(5))"
   ]
  },
  {
   "cell_type": "code",
   "execution_count": 13,
   "metadata": {},
   "outputs": [
    {
     "name": "stdout",
     "output_type": "stream",
     "text": [
      "922\n"
     ]
    }
   ],
   "source": [
    "print(len(target))"
   ]
  },
  {
   "cell_type": "code",
   "execution_count": 11,
   "metadata": {},
   "outputs": [
    {
     "name": "stdout",
     "output_type": "stream",
     "text": [
      "[0 1 nan]\n"
     ]
    }
   ],
   "source": [
    "print(target['Recurrence'].unique())"
   ]
  },
  {
   "cell_type": "code",
   "execution_count": 12,
   "metadata": {},
   "outputs": [
    {
     "name": "stdout",
     "output_type": "stream",
     "text": [
      "2\n"
     ]
    }
   ],
   "source": [
    "print(target['Recurrence'].isna().sum())"
   ]
  },
  {
   "cell_type": "code",
   "execution_count": 1,
   "metadata": {},
   "outputs": [
    {
     "ename": "UnicodeDecodeError",
     "evalue": "'utf-8' codec can't decode byte 0x86 in position 14: invalid start byte",
     "output_type": "error",
     "traceback": [
      "\u001b[0;31m---------------------------------------------------------------------------\u001b[0m",
      "\u001b[0;31mUnicodeDecodeError\u001b[0m                        Traceback (most recent call last)",
      "Cell \u001b[0;32mIn[1], line 4\u001b[0m\n\u001b[1;32m      1\u001b[0m \u001b[39mimport\u001b[39;00m\u001b[39m \u001b[39m\u001b[39mpandas\u001b[39;00m\u001b[39m \u001b[39m\u001b[39mas\u001b[39;00m\u001b[39m \u001b[39m\u001b[39mpd\u001b[39;00m\n\u001b[1;32m      3\u001b[0m \u001b[39m# Read the entire Excel file\u001b[39;00m\n\u001b[0;32m----> 4\u001b[0m df \u001b[39m=\u001b[39m pd\u001b[39m.\u001b[39;49mread_csv(\u001b[39m\"\u001b[39;49m\u001b[39m../datasets/Clinical_and_Other_Features.xlsx\u001b[39;49m\u001b[39m\"\u001b[39;49m)\n\u001b[1;32m      6\u001b[0m \u001b[39m# # Read a specific sheet (by name or index)\u001b[39;00m\n\u001b[1;32m      7\u001b[0m \u001b[39m# df = pd.read_excel(\"datasets/metadata.csv\", sheet_name=\"Sheet1\", engine=\"openpyxl\")\u001b[39;00m\n\u001b[1;32m      8\u001b[0m \n\u001b[1;32m      9\u001b[0m \u001b[39m# Print the DataFrame\u001b[39;00m\n\u001b[1;32m     10\u001b[0m \u001b[39mprint\u001b[39m(df\u001b[39m.\u001b[39mhead(\u001b[39m5\u001b[39m))\n",
      "File \u001b[0;32m~/miniconda3/envs/multi-modal/lib/python3.10/site-packages/pandas/io/parsers/readers.py:1026\u001b[0m, in \u001b[0;36mread_csv\u001b[0;34m(filepath_or_buffer, sep, delimiter, header, names, index_col, usecols, dtype, engine, converters, true_values, false_values, skipinitialspace, skiprows, skipfooter, nrows, na_values, keep_default_na, na_filter, verbose, skip_blank_lines, parse_dates, infer_datetime_format, keep_date_col, date_parser, date_format, dayfirst, cache_dates, iterator, chunksize, compression, thousands, decimal, lineterminator, quotechar, quoting, doublequote, escapechar, comment, encoding, encoding_errors, dialect, on_bad_lines, delim_whitespace, low_memory, memory_map, float_precision, storage_options, dtype_backend)\u001b[0m\n\u001b[1;32m   1013\u001b[0m kwds_defaults \u001b[39m=\u001b[39m _refine_defaults_read(\n\u001b[1;32m   1014\u001b[0m     dialect,\n\u001b[1;32m   1015\u001b[0m     delimiter,\n\u001b[0;32m   (...)\u001b[0m\n\u001b[1;32m   1022\u001b[0m     dtype_backend\u001b[39m=\u001b[39mdtype_backend,\n\u001b[1;32m   1023\u001b[0m )\n\u001b[1;32m   1024\u001b[0m kwds\u001b[39m.\u001b[39mupdate(kwds_defaults)\n\u001b[0;32m-> 1026\u001b[0m \u001b[39mreturn\u001b[39;00m _read(filepath_or_buffer, kwds)\n",
      "File \u001b[0;32m~/miniconda3/envs/multi-modal/lib/python3.10/site-packages/pandas/io/parsers/readers.py:620\u001b[0m, in \u001b[0;36m_read\u001b[0;34m(filepath_or_buffer, kwds)\u001b[0m\n\u001b[1;32m    617\u001b[0m _validate_names(kwds\u001b[39m.\u001b[39mget(\u001b[39m\"\u001b[39m\u001b[39mnames\u001b[39m\u001b[39m\"\u001b[39m, \u001b[39mNone\u001b[39;00m))\n\u001b[1;32m    619\u001b[0m \u001b[39m# Create the parser.\u001b[39;00m\n\u001b[0;32m--> 620\u001b[0m parser \u001b[39m=\u001b[39m TextFileReader(filepath_or_buffer, \u001b[39m*\u001b[39;49m\u001b[39m*\u001b[39;49mkwds)\n\u001b[1;32m    622\u001b[0m \u001b[39mif\u001b[39;00m chunksize \u001b[39mor\u001b[39;00m iterator:\n\u001b[1;32m    623\u001b[0m     \u001b[39mreturn\u001b[39;00m parser\n",
      "File \u001b[0;32m~/miniconda3/envs/multi-modal/lib/python3.10/site-packages/pandas/io/parsers/readers.py:1620\u001b[0m, in \u001b[0;36mTextFileReader.__init__\u001b[0;34m(self, f, engine, **kwds)\u001b[0m\n\u001b[1;32m   1617\u001b[0m     \u001b[39mself\u001b[39m\u001b[39m.\u001b[39moptions[\u001b[39m\"\u001b[39m\u001b[39mhas_index_names\u001b[39m\u001b[39m\"\u001b[39m] \u001b[39m=\u001b[39m kwds[\u001b[39m\"\u001b[39m\u001b[39mhas_index_names\u001b[39m\u001b[39m\"\u001b[39m]\n\u001b[1;32m   1619\u001b[0m \u001b[39mself\u001b[39m\u001b[39m.\u001b[39mhandles: IOHandles \u001b[39m|\u001b[39m \u001b[39mNone\u001b[39;00m \u001b[39m=\u001b[39m \u001b[39mNone\u001b[39;00m\n\u001b[0;32m-> 1620\u001b[0m \u001b[39mself\u001b[39m\u001b[39m.\u001b[39m_engine \u001b[39m=\u001b[39m \u001b[39mself\u001b[39;49m\u001b[39m.\u001b[39;49m_make_engine(f, \u001b[39mself\u001b[39;49m\u001b[39m.\u001b[39;49mengine)\n",
      "File \u001b[0;32m~/miniconda3/envs/multi-modal/lib/python3.10/site-packages/pandas/io/parsers/readers.py:1898\u001b[0m, in \u001b[0;36mTextFileReader._make_engine\u001b[0;34m(self, f, engine)\u001b[0m\n\u001b[1;32m   1895\u001b[0m     \u001b[39mraise\u001b[39;00m \u001b[39mValueError\u001b[39;00m(msg)\n\u001b[1;32m   1897\u001b[0m \u001b[39mtry\u001b[39;00m:\n\u001b[0;32m-> 1898\u001b[0m     \u001b[39mreturn\u001b[39;00m mapping[engine](f, \u001b[39m*\u001b[39;49m\u001b[39m*\u001b[39;49m\u001b[39mself\u001b[39;49m\u001b[39m.\u001b[39;49moptions)\n\u001b[1;32m   1899\u001b[0m \u001b[39mexcept\u001b[39;00m \u001b[39mException\u001b[39;00m:\n\u001b[1;32m   1900\u001b[0m     \u001b[39mif\u001b[39;00m \u001b[39mself\u001b[39m\u001b[39m.\u001b[39mhandles \u001b[39mis\u001b[39;00m \u001b[39mnot\u001b[39;00m \u001b[39mNone\u001b[39;00m:\n",
      "File \u001b[0;32m~/miniconda3/envs/multi-modal/lib/python3.10/site-packages/pandas/io/parsers/c_parser_wrapper.py:93\u001b[0m, in \u001b[0;36mCParserWrapper.__init__\u001b[0;34m(self, src, **kwds)\u001b[0m\n\u001b[1;32m     90\u001b[0m \u001b[39mif\u001b[39;00m kwds[\u001b[39m\"\u001b[39m\u001b[39mdtype_backend\u001b[39m\u001b[39m\"\u001b[39m] \u001b[39m==\u001b[39m \u001b[39m\"\u001b[39m\u001b[39mpyarrow\u001b[39m\u001b[39m\"\u001b[39m:\n\u001b[1;32m     91\u001b[0m     \u001b[39m# Fail here loudly instead of in cython after reading\u001b[39;00m\n\u001b[1;32m     92\u001b[0m     import_optional_dependency(\u001b[39m\"\u001b[39m\u001b[39mpyarrow\u001b[39m\u001b[39m\"\u001b[39m)\n\u001b[0;32m---> 93\u001b[0m \u001b[39mself\u001b[39m\u001b[39m.\u001b[39m_reader \u001b[39m=\u001b[39m parsers\u001b[39m.\u001b[39;49mTextReader(src, \u001b[39m*\u001b[39;49m\u001b[39m*\u001b[39;49mkwds)\n\u001b[1;32m     95\u001b[0m \u001b[39mself\u001b[39m\u001b[39m.\u001b[39munnamed_cols \u001b[39m=\u001b[39m \u001b[39mself\u001b[39m\u001b[39m.\u001b[39m_reader\u001b[39m.\u001b[39munnamed_cols\n\u001b[1;32m     97\u001b[0m \u001b[39m# error: Cannot determine type of 'names'\u001b[39;00m\n",
      "File \u001b[0;32mparsers.pyx:574\u001b[0m, in \u001b[0;36mpandas._libs.parsers.TextReader.__cinit__\u001b[0;34m()\u001b[0m\n",
      "File \u001b[0;32mparsers.pyx:663\u001b[0m, in \u001b[0;36mpandas._libs.parsers.TextReader._get_header\u001b[0;34m()\u001b[0m\n",
      "File \u001b[0;32mparsers.pyx:874\u001b[0m, in \u001b[0;36mpandas._libs.parsers.TextReader._tokenize_rows\u001b[0;34m()\u001b[0m\n",
      "File \u001b[0;32mparsers.pyx:891\u001b[0m, in \u001b[0;36mpandas._libs.parsers.TextReader._check_tokenize_status\u001b[0;34m()\u001b[0m\n",
      "File \u001b[0;32mparsers.pyx:2053\u001b[0m, in \u001b[0;36mpandas._libs.parsers.raise_parser_error\u001b[0;34m()\u001b[0m\n",
      "\u001b[0;31mUnicodeDecodeError\u001b[0m: 'utf-8' codec can't decode byte 0x86 in position 14: invalid start byte"
     ]
    }
   ],
   "source": [
    "import pandas as pd\n",
    "\n",
    "# Read the entire Excel file\n",
    "df = pd.read_csv(\"../datasets/metadata.csv\")\n",
    "\n",
    "# # Read a specific sheet (by name or index)\n",
    "# df = pd.read_excel(\"datasets/metadata.csv\", sheet_name=\"Sheet1\", engine=\"openpyxl\")\n",
    "\n",
    "# Print the DataFrame\n",
    "print(df.head(5))"
   ]
  },
  {
   "cell_type": "code",
   "execution_count": 6,
   "metadata": {},
   "outputs": [
    {
     "name": "stdout",
     "output_type": "stream",
     "text": [
      "['Series UID', 'Collection', '3rd Party Analysis', 'Data Description URI', 'Subject ID', 'Study UID', 'Study Description', 'Study Date', 'Series Description', 'Manufacturer', 'Modality', 'SOP Class Name', 'SOP Class UID', 'Number of Images', 'File Size', 'File Location', 'Download Timestamp']\n"
     ]
    }
   ],
   "source": [
    "print(df.columns.tolist())"
   ]
  },
  {
   "cell_type": "code",
   "execution_count": 8,
   "metadata": {},
   "outputs": [
    {
     "name": "stdout",
     "output_type": "stream",
     "text": [
      "['MR' 'SEG']\n"
     ]
    }
   ],
   "source": [
    "print(df['Modality'].unique())"
   ]
  },
  {
   "cell_type": "code",
   "execution_count": 12,
   "metadata": {},
   "outputs": [
    {
     "name": "stdout",
     "output_type": "stream",
     "text": [
      "                                          Series UID              Collection  \\\n",
      "0  1.3.6.1.4.1.14519.5.2.1.1754149663016455182384...  Duke-Breast-Cancer-MRI   \n",
      "1  1.3.6.1.4.1.14519.5.2.1.1072629657499780353316...  Duke-Breast-Cancer-MRI   \n",
      "2  1.3.6.1.4.1.14519.5.2.1.1514720349923003958578...  Duke-Breast-Cancer-MRI   \n",
      "3  1.3.6.1.4.1.14519.5.2.1.1857778498036652445367...  Duke-Breast-Cancer-MRI   \n",
      "4  1.3.6.1.4.1.14519.5.2.1.1602809643137194123479...  Duke-Breast-Cancer-MRI   \n",
      "\n",
      "  3rd Party Analysis                   Data Description URI      Subject ID  \\\n",
      "0                 NO  https://doi.org/10.7937/TCIA.e3svre93  Breast_MRI_001   \n",
      "1                 NO  https://doi.org/10.7937/TCIA.e3svre93  Breast_MRI_001   \n",
      "2                 NO  https://doi.org/10.7937/TCIA.e3svre93  Breast_MRI_001   \n",
      "3                 NO  https://doi.org/10.7937/TCIA.e3svre93  Breast_MRI_001   \n",
      "4                 NO  https://doi.org/10.7937/TCIA.e3svre93  Breast_MRI_002   \n",
      "\n",
      "                                           Study UID  \\\n",
      "0  1.3.6.1.4.1.14519.5.2.1.1860515210678639712695...   \n",
      "1  1.3.6.1.4.1.14519.5.2.1.1860515210678639712695...   \n",
      "2  1.3.6.1.4.1.14519.5.2.1.1860515210678639712695...   \n",
      "3  1.3.6.1.4.1.14519.5.2.1.1860515210678639712695...   \n",
      "4  1.3.6.1.4.1.14519.5.2.1.2934485107964891261049...   \n",
      "\n",
      "            Study Description  Study Date Series Description  \\\n",
      "0    MRI BREAST BILATERAL WWO  01-01-1990        ax t1 tse c   \n",
      "1    MRI BREAST BILATERAL WWO  01-01-1990    ax dyn 3rd pass   \n",
      "2    MRI BREAST BILATERAL WWO  01-01-1990    ax dyn 1st pass   \n",
      "3    MRI BREAST BILATERAL WWO  01-01-1990         ax dyn pre   \n",
      "4  MRI BREAST BILATERAL W  WO  01-01-1990              ax t1   \n",
      "\n",
      "         Manufacturer Modality    SOP Class Name              SOP Class UID  \\\n",
      "0             SIEMENS       MR  MR Image Storage  1.2.840.10008.5.1.4.1.1.4   \n",
      "1             SIEMENS       MR  MR Image Storage  1.2.840.10008.5.1.4.1.1.4   \n",
      "2             SIEMENS       MR  MR Image Storage  1.2.840.10008.5.1.4.1.1.4   \n",
      "3             SIEMENS       MR  MR Image Storage  1.2.840.10008.5.1.4.1.1.4   \n",
      "4  GE MEDICAL SYSTEMS       MR  MR Image Storage  1.2.840.10008.5.1.4.1.1.4   \n",
      "\n",
      "   Number of Images File Size  \\\n",
      "0                42   5.60 MB   \n",
      "1               160  64.61 MB   \n",
      "2               160  64.61 MB   \n",
      "3               160  64.60 MB   \n",
      "4                60  31.59 MB   \n",
      "\n",
      "                                       File Location       Download Timestamp  \n",
      "0  .\\Duke-Breast-Cancer-MRI\\Breast_MRI_001\\01-01-...  2025-01-30T10:11:19.769  \n",
      "1  .\\Duke-Breast-Cancer-MRI\\Breast_MRI_001\\01-01-...  2025-01-30T10:12:39.906  \n",
      "2  .\\Duke-Breast-Cancer-MRI\\Breast_MRI_001\\01-01-...  2025-01-30T10:12:40.258  \n",
      "3  .\\Duke-Breast-Cancer-MRI\\Breast_MRI_001\\01-01-...   2025-01-30T10:12:42.65  \n",
      "4  .\\Duke-Breast-Cancer-MRI\\Breast_MRI_002\\01-01-...  2025-01-30T10:12:59.111  \n"
     ]
    }
   ],
   "source": [
    "MR_series = df[df['Modality']=='MR']\n",
    "print(MR_series.head(5))"
   ]
  }
 ],
 "metadata": {
  "kernelspec": {
   "display_name": "Python 3",
   "language": "python",
   "name": "python3"
  },
  "language_info": {
   "codemirror_mode": {
    "name": "ipython",
    "version": 3
   },
   "file_extension": ".py",
   "mimetype": "text/x-python",
   "name": "python",
   "nbconvert_exporter": "python",
   "pygments_lexer": "ipython3",
   "version": "3.10.16"
  },
  "orig_nbformat": 4
 },
 "nbformat": 4,
 "nbformat_minor": 2
}
