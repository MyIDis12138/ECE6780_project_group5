{
 "cells": [
  {
   "cell_type": "code",
   "execution_count": 1,
   "metadata": {},
   "outputs": [
    {
     "name": "stdout",
     "output_type": "stream",
     "text": [
      "\n",
      "--- Information about the DataFrame ---\n",
      "<class 'pandas.core.frame.DataFrame'>\n",
      "RangeIndex: 922 entries, 0 to 921\n",
      "Data columns (total 7 columns):\n",
      " #   Column        Non-Null Count  Dtype \n",
      "---  ------        --------------  ----- \n",
      " 0   Patient ID    922 non-null    object\n",
      " 1   Start Row     922 non-null    int64 \n",
      " 2   End Row       922 non-null    int64 \n",
      " 3   Start Column  922 non-null    int64 \n",
      " 4   End Column    922 non-null    int64 \n",
      " 5   Start Slice   922 non-null    int64 \n",
      " 6   End Slice     922 non-null    int64 \n",
      "dtypes: int64(6), object(1)\n",
      "memory usage: 50.5+ KB\n",
      "None\n",
      "\n",
      "--- Descriptive Statistics for Numerical Columns ---\n",
      "        Start Row     End Row  Start Column  End Column  Start Slice  \\\n",
      "count  922.000000  922.000000    922.000000  922.000000   922.000000   \n",
      "mean   249.120390  297.250542    222.686551  263.541215    76.895879   \n",
      "std     84.350618   86.697717    121.246433  122.214435    28.368982   \n",
      "min     36.000000   74.000000     22.000000   57.000000     1.000000   \n",
      "25%    179.000000  221.000000    107.250000  146.000000    57.000000   \n",
      "50%    268.500000  316.000000    193.000000  225.500000    76.000000   \n",
      "75%    310.000000  362.750000    341.000000  384.000000    95.000000   \n",
      "max    425.000000  472.000000    444.000000  482.000000   174.000000   \n",
      "\n",
      "        End Slice  \n",
      "count  922.000000  \n",
      "mean   101.303688  \n",
      "std     28.333805  \n",
      "min     26.000000  \n",
      "25%     83.000000  \n",
      "50%    100.500000  \n",
      "75%    119.000000  \n",
      "max    196.000000  \n",
      "\n",
      "--- Shape of the DataFrame (rows, columns) ---\n",
      "(922, 7)\n"
     ]
    }
   ],
   "source": [
    "import pandas as pd\n",
    "\n",
    "# Read the entire Excel file\n",
    "df = pd.read_excel(\"../data/Annotation_Boxes.xlsx\", engine=\"openpyxl\")\n",
    "\n",
    "# # Read a specific sheet (by name or index)\n",
    "# df = pd.read_excel(\"datasets/metadata.csv\", sheet_name=\"Sheet1\", engine=\"openpyxl\")\n",
    "\n",
    "#print(\"\\n--- First 5 rows of the DataFrame ---\")\n",
    "#print(df.head())\n",
    "\n",
    "print(\"\\n--- Information about the DataFrame ---\")\n",
    "print(df.info())\n",
    "\n",
    "print(\"\\n--- Descriptive Statistics for Numerical Columns ---\")\n",
    "print(df.describe())\n",
    "\n",
    "print(\"\\n--- Shape of the DataFrame (rows, columns) ---\")\n",
    "print(df.shape)"
   ]
  },
  {
   "cell_type": "code",
   "execution_count": 2,
   "metadata": {},
   "outputs": [
    {
     "name": "stdout",
     "output_type": "stream",
     "text": [
      "['Patient ID', 'Start Row', 'End Row', 'Start Column', 'End Column', 'Start Slice', 'End Slice']\n",
      "False\n"
     ]
    }
   ],
   "source": [
    "print(df.columns.tolist())\n",
    "print(\"Tumor Characteristics\" in df.columns.tolist()) "
   ]
  },
  {
   "cell_type": "code",
   "execution_count": 4,
   "metadata": {},
   "outputs": [
    {
     "name": "stdout",
     "output_type": "stream",
     "text": [
      "Average row difference: 48.130151843817785\n",
      "Average column difference: 40.85466377440347\n",
      "Average slice difference: 24.407809110629067\n"
     ]
    }
   ],
   "source": [
    "avg_row_diff = (df['Start Row'] - df['End Row']).abs().mean()\n",
    "avg_col_diff = (df['Start Column'] - df['End Column']).abs().mean()\n",
    "avg_slice_diff = (df['Start Slice'] - df['End Slice']).abs().mean()\n",
    "\n",
    "print(f\"Average row difference: {avg_row_diff}\")\n",
    "print(f\"Average column difference: {avg_col_diff}\")\n",
    "print(f\"Average slice difference: {avg_slice_diff}\")"
   ]
  },
  {
   "cell_type": "code",
   "execution_count": null,
   "metadata": {},
   "outputs": [],
   "source": []
  },
  {
   "cell_type": "code",
   "execution_count": 10,
   "metadata": {},
   "outputs": [
    {
     "name": "stdout",
     "output_type": "stream",
     "text": [
      "\n",
      "--- Data Types of Each Column ---\n",
      "Patient Information          object\n",
      "MRI Technical Information    object\n",
      "Unnamed: 2                   object\n",
      "Unnamed: 3                   object\n",
      "Unnamed: 4                   object\n",
      "                              ...  \n",
      "Unnamed: 93                  object\n",
      "Unnamed: 94                  object\n",
      "Near Complete Response       object\n",
      "Unnamed: 96                  object\n",
      "Unnamed: 97                  object\n",
      "Length: 98, dtype: object\n",
      "\n",
      "--- Count of Missing Values per Column ---\n",
      "Patient Information            1\n",
      "MRI Technical Information      1\n",
      "Unnamed: 2                     0\n",
      "Unnamed: 3                     0\n",
      "Unnamed: 4                     0\n",
      "                            ... \n",
      "Unnamed: 93                  652\n",
      "Unnamed: 94                  657\n",
      "Near Complete Response       610\n",
      "Unnamed: 96                  610\n",
      "Unnamed: 97                  610\n",
      "Length: 98, dtype: int64\n"
     ]
    }
   ],
   "source": [
    "print(\"\\n--- Data Types of Each Column ---\")\n",
    "print(df.dtypes)\n",
    "\n",
    "print(\"\\n--- Count of Missing Values per Column ---\")\n",
    "print(df.isnull().sum())"
   ]
  },
  {
   "cell_type": "code",
   "execution_count": 5,
   "metadata": {},
   "outputs": [
    {
     "name": "stdout",
     "output_type": "stream",
     "text": [
      "922\n"
     ]
    }
   ],
   "source": [
    "\n"
   ]
  },
  {
   "cell_type": "code",
   "execution_count": 6,
   "metadata": {},
   "outputs": [
    {
     "name": "stdout",
     "output_type": "stream",
     "text": [
      "[0 1 nan]\n"
     ]
    }
   ],
   "source": [
    "print(target['Recurrence'].unique())"
   ]
  },
  {
   "cell_type": "code",
   "execution_count": 7,
   "metadata": {},
   "outputs": [
    {
     "name": "stdout",
     "output_type": "stream",
     "text": [
      "2\n"
     ]
    }
   ],
   "source": [
    "print(target['Recurrence'].isna().sum())"
   ]
  },
  {
   "cell_type": "code",
   "execution_count": null,
   "metadata": {},
   "outputs": [],
   "source": [
    "print(\"\\n--- Data Types of Each Column ---\")\n",
    "print(df.dtypes)\n",
    "\n",
    "print(\"\\n--- Count of Missing Values per Column ---\")\n",
    "print(df.isnull().sum())"
   ]
  },
  {
   "cell_type": "code",
   "execution_count": null,
   "metadata": {},
   "outputs": [],
   "source": [
    "import pandas as pd\n",
    "\n",
    "# Read the entire Excel file\n",
    "df = pd.read_csv(\"../datasets/metadata.csv\")\n",
    "\n",
    "# # Read a specific sheet (by name or index)\n",
    "# df = pd.read_excel(\"datasets/metadata.csv\", sheet_name=\"Sheet1\", engine=\"openpyxl\")\n",
    "\n",
    "# Print the DataFrame\n",
    "print(df.head(5))"
   ]
  },
  {
   "cell_type": "code",
   "execution_count": null,
   "metadata": {},
   "outputs": [],
   "source": [
    "print(df.columns.tolist())"
   ]
  },
  {
   "cell_type": "code",
   "execution_count": null,
   "metadata": {},
   "outputs": [],
   "source": [
    "print(df['Modality'].unique())"
   ]
  },
  {
   "cell_type": "code",
   "execution_count": null,
   "metadata": {},
   "outputs": [],
   "source": [
    "MR_series = df[df['Modality']=='MR']\n",
    "print(MR_series.head(5))"
   ]
  }
 ],
 "metadata": {
  "kernelspec": {
   "display_name": "mip",
   "language": "python",
   "name": "python3"
  },
  "language_info": {
   "codemirror_mode": {
    "name": "ipython",
    "version": 3
   },
   "file_extension": ".py",
   "mimetype": "text/x-python",
   "name": "python",
   "nbconvert_exporter": "python",
   "pygments_lexer": "ipython3",
   "version": "3.10.16"
  },
  "orig_nbformat": 4
 },
 "nbformat": 4,
 "nbformat_minor": 2
}
