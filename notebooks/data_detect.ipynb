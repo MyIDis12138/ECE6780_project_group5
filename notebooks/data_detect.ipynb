{
 "cells": [
  {
   "cell_type": "code",
   "execution_count": 9,
   "metadata": {},
   "outputs": [
    {
     "name": "stdout",
     "output_type": "stream",
     "text": [
      "\n",
      "--- Information about the DataFrame ---\n",
      "<class 'pandas.core.frame.DataFrame'>\n",
      "RangeIndex: 924 entries, 0 to 923\n",
      "Data columns (total 98 columns):\n",
      " #   Column                                      Non-Null Count  Dtype  \n",
      "---  ------                                      --------------  -----  \n",
      " 0   Patient Information                         923 non-null    object \n",
      " 1   MRI Technical Information                   923 non-null    object \n",
      " 2   Unnamed: 2                                  924 non-null    object \n",
      " 3   Unnamed: 3                                  924 non-null    object \n",
      " 4   Unnamed: 4                                  924 non-null    object \n",
      " 5   Unnamed: 5                                  924 non-null    object \n",
      " 6   Unnamed: 6                                  924 non-null    object \n",
      " 7   Unnamed: 7                                  923 non-null    object \n",
      " 8   Unnamed: 8                                  919 non-null    object \n",
      " 9   Unnamed: 9                                  271 non-null    object \n",
      " 10  Unnamed: 10                                 923 non-null    object \n",
      " 11  Unnamed: 11                                 923 non-null    object \n",
      " 12  Unnamed: 12                                 924 non-null    object \n",
      " 13  Unnamed: 13                                 924 non-null    object \n",
      " 14  Unnamed: 14                                 924 non-null    object \n",
      " 15  Unnamed: 15                                 924 non-null    object \n",
      " 16  Unnamed: 16                                 630 non-null    object \n",
      " 17  Unnamed: 17                                 924 non-null    object \n",
      " 18  Unnamed: 18                                 924 non-null    object \n",
      " 19  Demographics                                924 non-null    object \n",
      " 20  Unnamed: 20                                 924 non-null    object \n",
      " 21  Unnamed: 21                                 924 non-null    object \n",
      " 22  Unnamed: 22                                 924 non-null    object \n",
      " 23  Tumor Characteristics                       924 non-null    object \n",
      " 24  Unnamed: 24                                 924 non-null    object \n",
      " 25  Unnamed: 25                                 924 non-null    object \n",
      " 26  Unnamed: 26                                 924 non-null    object \n",
      " 27  Unnamed: 27                                 262 non-null    object \n",
      " 28  Unnamed: 28                                 917 non-null    object \n",
      " 29  Unnamed: 29                                 899 non-null    object \n",
      " 30  Unnamed: 30                                 923 non-null    object \n",
      " 31  Unnamed: 31                                 909 non-null    object \n",
      " 32  Unnamed: 32                                 916 non-null    object \n",
      " 33  Unnamed: 33                                 902 non-null    object \n",
      " 34  Unnamed: 34                                 640 non-null    object \n",
      " 35  Unnamed: 35                                 648 non-null    object \n",
      " 36  Unnamed: 36                                 653 non-null    object \n",
      " 37  Unnamed: 37                                 924 non-null    object \n",
      " 38  Unnamed: 38                                 924 non-null    object \n",
      " 39  Unnamed: 39                                 923 non-null    object \n",
      " 40  Unnamed: 40                                 923 non-null    object \n",
      " 41  Unnamed: 41                                 924 non-null    object \n",
      " 42  Unnamed: 42                                 897 non-null    object \n",
      " 43  Unnamed: 43                                 922 non-null    object \n",
      " 44  Unnamed: 44                                 923 non-null    object \n",
      " 45  Unnamed: 45                                 923 non-null    object \n",
      " 46  Unnamed: 46                                 923 non-null    object \n",
      " 47  Unnamed: 47                                 923 non-null    object \n",
      " 48  MRI Findings                                924 non-null    object \n",
      " 49  Unnamed: 49                                 924 non-null    object \n",
      " 50  Unnamed: 50                                 924 non-null    object \n",
      " 51  Unnamed: 51                                 924 non-null    object \n",
      " 52  Unnamed: 52                                 924 non-null    object \n",
      " 53  SURGERY                                     917 non-null    object \n",
      " 54  Unnamed: 54                                 912 non-null    object \n",
      " 55  Unnamed: 55                                 917 non-null    object \n",
      " 56  Radiation Therapy                           916 non-null    object \n",
      " 57  Unnamed: 57                                 915 non-null    object \n",
      " 58  Tumor Response                              314 non-null    object \n",
      " 59  Unnamed: 59                                 314 non-null    object \n",
      " 60  Recurrence                                  922 non-null    object \n",
      " 61  Unnamed: 61                                 923 non-null    object \n",
      " 62  Unnamed: 62                                 923 non-null    object \n",
      " 63  Follow Up                                   923 non-null    object \n",
      " 64  Unnamed: 64                                 921 non-null    object \n",
      " 65  Unnamed: 65                                 921 non-null    object \n",
      " 66  Unnamed: 66                                 652 non-null    object \n",
      " 67  BIRADS DATA                                 0 non-null      float64\n",
      " 68  Mammography Characteristics                 785 non-null    object \n",
      " 69  Unnamed: 69                                 810 non-null    object \n",
      " 70  Unnamed: 70                                 717 non-null    object \n",
      " 71  Unnamed: 71                                 724 non-null    object \n",
      " 72  Unnamed: 72                                 672 non-null    object \n",
      " 73  Unnamed: 73                                 669 non-null    object \n",
      " 74  Unnamed: 74                                 696 non-null    object \n",
      " 75  Unnamed: 75                                 749 non-null    object \n",
      " 76  US features                                 763 non-null    object \n",
      " 77  Unnamed: 77                                 724 non-null    object \n",
      " 78  Unnamed: 78                                 788 non-null    object \n",
      " 79  Unnamed: 79                                 767 non-null    object \n",
      " 80  Unnamed: 80                                 666 non-null    object \n",
      " 81  Unnamed: 81                                 688 non-null    object \n",
      " 82  Chemotherapy                                895 non-null    object \n",
      " 83  Unnamed: 83                                 875 non-null    object \n",
      " 84  Endocrine Therapy                           894 non-null    object \n",
      " 85  Unnamed: 85                                 870 non-null    object \n",
      " 86  Unnamed: 86                                 924 non-null    object \n",
      " 87  Unnamed: 87                                 924 non-null    object \n",
      " 88  Unnamed: 88                                 924 non-null    object \n",
      " 89  Anti-Her2 Neu Therapy                       894 non-null    object \n",
      " 90  Unnamed: 90                                 873 non-null    object \n",
      " 91  Neoadjuvant therapy                         895 non-null    object \n",
      " 92  Pathologic Response to Neoadjuvant Therapy  271 non-null    object \n",
      " 93  Unnamed: 93                                 272 non-null    object \n",
      " 94  Unnamed: 94                                 267 non-null    object \n",
      " 95  Near Complete Response                      314 non-null    object \n",
      " 96  Unnamed: 96                                 314 non-null    object \n",
      " 97  Unnamed: 97                                 314 non-null    object \n",
      "dtypes: float64(1), object(97)\n",
      "memory usage: 707.6+ KB\n",
      "None\n",
      "\n",
      "--- Descriptive Statistics for Numerical Columns ---\n",
      "       BIRADS DATA\n",
      "count          0.0\n",
      "mean           NaN\n",
      "std            NaN\n",
      "min            NaN\n",
      "25%            NaN\n",
      "50%            NaN\n",
      "75%            NaN\n",
      "max            NaN\n",
      "\n",
      "--- Shape of the DataFrame (rows, columns) ---\n",
      "(924, 98)\n"
     ]
    }
   ],
   "source": [
    "import pandas as pd\n",
    "\n",
    "# Read the entire Excel file\n",
    "df = pd.read_excel(\"../data/Clinical_and_Other_Features.xlsx\", engine=\"openpyxl\")\n",
    "\n",
    "# # Read a specific sheet (by name or index)\n",
    "# df = pd.read_excel(\"datasets/metadata.csv\", sheet_name=\"Sheet1\", engine=\"openpyxl\")\n",
    "\n",
    "#print(\"\\n--- First 5 rows of the DataFrame ---\")\n",
    "#print(df.head())\n",
    "\n",
    "print(\"\\n--- Information about the DataFrame ---\")\n",
    "print(df.info())\n",
    "\n",
    "print(\"\\n--- Descriptive Statistics for Numerical Columns ---\")\n",
    "print(df.describe())\n",
    "\n",
    "print(\"\\n--- Shape of the DataFrame (rows, columns) ---\")\n",
    "print(df.shape)"
   ]
  },
  {
   "cell_type": "code",
   "execution_count": 12,
   "metadata": {},
   "outputs": [
    {
     "name": "stdout",
     "output_type": "stream",
     "text": [
      "['Patient Information', 'MRI Technical Information', 'Unnamed: 2', 'Unnamed: 3', 'Unnamed: 4', 'Unnamed: 5', 'Unnamed: 6', 'Unnamed: 7', 'Unnamed: 8', 'Unnamed: 9', 'Unnamed: 10', 'Unnamed: 11', 'Unnamed: 12', 'Unnamed: 13', 'Unnamed: 14', 'Unnamed: 15', 'Unnamed: 16', 'Unnamed: 17', 'Unnamed: 18', 'Demographics', 'Unnamed: 20', 'Unnamed: 21', 'Unnamed: 22', 'Tumor Characteristics', 'Unnamed: 24', 'Unnamed: 25', 'Unnamed: 26', 'Unnamed: 27', 'Unnamed: 28', 'Unnamed: 29', 'Unnamed: 30', 'Unnamed: 31', 'Unnamed: 32', 'Unnamed: 33', 'Unnamed: 34', 'Unnamed: 35', 'Unnamed: 36', 'Unnamed: 37', 'Unnamed: 38', 'Unnamed: 39', 'Unnamed: 40', 'Unnamed: 41', 'Unnamed: 42', 'Unnamed: 43', 'Unnamed: 44', 'Unnamed: 45', 'Unnamed: 46', 'Unnamed: 47', 'MRI Findings', 'Unnamed: 49', 'Unnamed: 50', 'Unnamed: 51', 'Unnamed: 52', 'SURGERY', 'Unnamed: 54', 'Unnamed: 55', 'Radiation Therapy', 'Unnamed: 57', 'Tumor Response', 'Unnamed: 59', 'Recurrence', 'Unnamed: 61', 'Unnamed: 62', 'Follow Up', 'Unnamed: 64', 'Unnamed: 65', 'Unnamed: 66', 'BIRADS DATA', 'Mammography Characteristics', 'Unnamed: 69', 'Unnamed: 70', 'Unnamed: 71', 'Unnamed: 72', 'Unnamed: 73', 'Unnamed: 74', 'Unnamed: 75', 'US features', 'Unnamed: 77', 'Unnamed: 78', 'Unnamed: 79', 'Unnamed: 80', 'Unnamed: 81', 'Chemotherapy', 'Unnamed: 83', 'Endocrine Therapy', 'Unnamed: 85', 'Unnamed: 86', 'Unnamed: 87', 'Unnamed: 88', 'Anti-Her2 Neu Therapy', 'Unnamed: 90', 'Neoadjuvant therapy', 'Pathologic Response to Neoadjuvant Therapy', 'Unnamed: 93', 'Unnamed: 94', 'Near Complete Response', 'Unnamed: 96', 'Unnamed: 97']\n",
      "False\n"
     ]
    }
   ],
   "source": [
    "print(df.columns.tolist())\n",
    "print(\"Tumor Characteristics\" in df.columns.tolist()) "
   ]
  },
  {
   "cell_type": "code",
   "execution_count": 14,
   "metadata": {},
   "outputs": [
    {
     "name": "stdout",
     "output_type": "stream",
     "text": [
      "\n",
      "--- Tumor Characteristics ---\n",
      "0                     ER\n",
      "1    {0 = neg,\\n1 = pos}\n",
      "2                      0\n",
      "3                      0\n",
      "4                      1\n",
      "Name: Tumor Characteristics, dtype: object\n",
      "['ER' '{0 = neg,\\n1 = pos}' 0 1]\n"
     ]
    }
   ],
   "source": [
    "print(\"\\n--- Tumor Characteristics ---\")\n",
    "tumor_characteristics = df['Tumor Characteristics']\n",
    "print(tumor_characteristics.head(5))\n",
    "print(tumor_characteristics.unique())"
   ]
  },
  {
   "cell_type": "code",
   "execution_count": null,
   "metadata": {},
   "outputs": [],
   "source": []
  },
  {
   "cell_type": "code",
   "execution_count": 10,
   "metadata": {},
   "outputs": [
    {
     "name": "stdout",
     "output_type": "stream",
     "text": [
      "\n",
      "--- Data Types of Each Column ---\n",
      "Patient Information          object\n",
      "MRI Technical Information    object\n",
      "Unnamed: 2                   object\n",
      "Unnamed: 3                   object\n",
      "Unnamed: 4                   object\n",
      "                              ...  \n",
      "Unnamed: 93                  object\n",
      "Unnamed: 94                  object\n",
      "Near Complete Response       object\n",
      "Unnamed: 96                  object\n",
      "Unnamed: 97                  object\n",
      "Length: 98, dtype: object\n",
      "\n",
      "--- Count of Missing Values per Column ---\n",
      "Patient Information            1\n",
      "MRI Technical Information      1\n",
      "Unnamed: 2                     0\n",
      "Unnamed: 3                     0\n",
      "Unnamed: 4                     0\n",
      "                            ... \n",
      "Unnamed: 93                  652\n",
      "Unnamed: 94                  657\n",
      "Near Complete Response       610\n",
      "Unnamed: 96                  610\n",
      "Unnamed: 97                  610\n",
      "Length: 98, dtype: int64\n"
     ]
    }
   ],
   "source": [
    "print(\"\\n--- Data Types of Each Column ---\")\n",
    "print(df.dtypes)\n",
    "\n",
    "print(\"\\n--- Count of Missing Values per Column ---\")\n",
    "print(df.isnull().sum())"
   ]
  },
  {
   "cell_type": "code",
   "execution_count": 5,
   "metadata": {},
   "outputs": [
    {
     "name": "stdout",
     "output_type": "stream",
     "text": [
      "922\n"
     ]
    }
   ],
   "source": [
    "\n"
   ]
  },
  {
   "cell_type": "code",
   "execution_count": 6,
   "metadata": {},
   "outputs": [
    {
     "name": "stdout",
     "output_type": "stream",
     "text": [
      "[0 1 nan]\n"
     ]
    }
   ],
   "source": [
    "print(target['Recurrence'].unique())"
   ]
  },
  {
   "cell_type": "code",
   "execution_count": 7,
   "metadata": {},
   "outputs": [
    {
     "name": "stdout",
     "output_type": "stream",
     "text": [
      "2\n"
     ]
    }
   ],
   "source": [
    "print(target['Recurrence'].isna().sum())"
   ]
  },
  {
   "cell_type": "code",
   "execution_count": null,
   "metadata": {},
   "outputs": [],
   "source": [
    "print(\"\\n--- Data Types of Each Column ---\")\n",
    "print(df.dtypes)\n",
    "\n",
    "print(\"\\n--- Count of Missing Values per Column ---\")\n",
    "print(df.isnull().sum())"
   ]
  },
  {
   "cell_type": "code",
   "execution_count": null,
   "metadata": {},
   "outputs": [],
   "source": [
    "import pandas as pd\n",
    "\n",
    "# Read the entire Excel file\n",
    "df = pd.read_csv(\"../datasets/metadata.csv\")\n",
    "\n",
    "# # Read a specific sheet (by name or index)\n",
    "# df = pd.read_excel(\"datasets/metadata.csv\", sheet_name=\"Sheet1\", engine=\"openpyxl\")\n",
    "\n",
    "# Print the DataFrame\n",
    "print(df.head(5))"
   ]
  },
  {
   "cell_type": "code",
   "execution_count": null,
   "metadata": {},
   "outputs": [],
   "source": [
    "print(df.columns.tolist())"
   ]
  },
  {
   "cell_type": "code",
   "execution_count": null,
   "metadata": {},
   "outputs": [],
   "source": [
    "print(df['Modality'].unique())"
   ]
  },
  {
   "cell_type": "code",
   "execution_count": null,
   "metadata": {},
   "outputs": [],
   "source": [
    "MR_series = df[df['Modality']=='MR']\n",
    "print(MR_series.head(5))"
   ]
  }
 ],
 "metadata": {
  "kernelspec": {
   "display_name": "mip",
   "language": "python",
   "name": "python3"
  },
  "language_info": {
   "codemirror_mode": {
    "name": "ipython",
    "version": 3
   },
   "file_extension": ".py",
   "mimetype": "text/x-python",
   "name": "python",
   "nbconvert_exporter": "python",
   "pygments_lexer": "ipython3",
   "version": "3.10.16"
  },
  "orig_nbformat": 4
 },
 "nbformat": 4,
 "nbformat_minor": 2
}
